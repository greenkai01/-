import requests
from bs4 import BeautifulSoup

URL = 'https://school.koreacharts.com/school/meals/B000012911/contents.html'
headers = {"User-Agent":"Mozilla/5.0 (X11; CrOS x86_64 14541.0.0) AppleWebKit/537.36 (KHTML, like Gecko) Chrome/124.0.0.0 Safari/537.36"}
res = requests.get(URL, headers=headers)
res.raise_for_status()

soup = BeautifulSoup(res.content, 'html.parser')

table = soup.('body > div > div > div > section.content > div:nth-child(6) > div > div > div.box-body > table')
hanilgo_month = soup.select_one('body > div > div > div > section.content > div:nth-child(6) > div > div > div.box-header.with-border > h2').text
print(hanilgo_month)

for tr in table.find_all('tr'):
  tds = list(tr.find_all('td'))

  for td in tds:
    hanilgo_breakfast = td.select_one('tr > td > p:nth-child(1)').text
    print(hanilgo_breakfast)
    hanilgo_lunch = td.select_one('tr > td > p:nth-child(2)').text
    print(hanilgo_lunch)
    hanilgo_dinner = td.select_one('tr > td > p:nth-child(3)').text
    print(hanilgo_dinner)
    hanilgo_date = td.select_one('tr > td:nth-child(1)').text
    print(hanilgo_date)

   # URL = 'https://script.google.com/macros/s/AKfycbyudD8g60WVxEiGL_CH3PToq4tETI1sfdq1fali5U8k9vTDwXtkAnkhZCMKPBxIr1IM/exec?url=' + hanilgo_date + "&date=" + hanilgo_breakfast + "&breakfast=" + hanilgo_lunch + "&lunch=" + hanilgo_dinner + "&dinner="
   # response = requests.get(URL)
   # response.status_code
   # response.text
