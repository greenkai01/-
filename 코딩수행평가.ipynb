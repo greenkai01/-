import requests
from bs4 import BeautifulSoup

URL = 'https://school.koreacharts.com/school/meals/B000012911/contents.html'
headers = {"User-Agent":"Mozilla/5.0 (X11; CrOS x86_64 14541.0.0) AppleWebKit/537.36 (KHTML, like Gecko) Chrome/124.0.0.0 Safari/537.36"}
res = requests.get(URL, headers=headers)
res.raise_for_status()

soup = BeautifulSoup(res.content, 'html.parser')

table = soup.select_one('body > div > div > div > section.content > div:nth-child(6) > div > div > div.box-body > table')
hanilgo_month = soup.select_one('body > div > div > div > section.content > div:nth-child(6) > div > div > div.box-header.with-border > h2').text
print(hanilgo_month)

for tr in table.find_all('tr'):
  tds = list(tr.find_all('td'))

  for td in tds:
    if td.find('p'):
      hanilgo_breakfast = td.text
      print(hanilgo_breakfast)
      hanilgo_date = tds[0].text
      hanilgo_Dayoftheweek = tds[1].text
      print(hanilgo_date, hanilgo_Dayoftheweek)

   # URL = 'https://script.google.com/macros/s/AKfycbyudD8g60WVxEiGL_CH3PToq4tETI1sfdq1fali5U8k9vTDwXtkAnkhZCMKPBxIr1IM/exec?url=' + hanilgo_date + "&date=" + hanilgo_breakfast + "&breakfast=" + hanilgo_lunch + "&lunch=" + hanilgo_dinner + "&dinner="
   # response = requests.get(URL)
   # response.status_code
   # response.text
