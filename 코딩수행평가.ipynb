import requests
from bs4 import BeautifulSoup
from datetime import datetime

datetime_today = int(datetime.today().day)

URL = 'https://school.koreacharts.com/school/meals/B000012911/contents.html'
headers = {"User-Agent":"Mozilla/5.0 (X11; CrOS x86_64 14541.0.0) AppleWebKit/537.36 (KHTML, like Gecko) Chrome/124.0.0.0 Safari/537.36"}
res = requests.get(URL, headers=headers)
res.raise_for_status()

soup = BeautifulSoup(res.content, 'html.parser')

table = soup.select_one('body > div > div > div > section.content > div:nth-child(6) > div > div > div.box-body > table')

hb = list()
hl = list()
hd = list()
hdate = list()

for tr in table.find_all('tr'):
  tds = list(tr.find_all('td'))
  for td in tds:
    if td.find('p'):
      p = list(td.find_all('p'))
      hb.append(p[0].text)
      hl.append(p[1].text)
      hd.append(p[2].text)
      hdate.append(tds[0].text)

hanilgo_real_month = str(datetime.today().month)

try:
  answer = int(input('1. 오늘 시간표 보기'+ '\n' +'2. 오늘 급식표 보기'+ '\n'))
  if answer == 1:
    f1 = open("schedule.txt", "r")
    answer1 = int(input('1. 월요일'+ '\n' +'2. 화요일'+ '\n' +'3. 수요일'+ '\n' +'4. 목요일'+ '\n' +'5. 금요일'+ '\n' +'6. 토요일'+ '\n' +'7. 일요일'+ '\n'))
    answer2 = f1.readline()
    answer3 = f1.readline()
    answer4 = f1.readline()
    answer5 = f1.readline()
    answer6 = f1.readline()
    answer7 = f1.readline()
    answer8 = f1.readline()
    f1.close()
    if answer1 == 1:
      print('\n'+'월요일 시간표: '+answer2)
    elif answer1 == 2:
      print('\n'+'화요일 시간표: '+answer3)
    elif answer1 == 3:
      print('\n'+'수요일 시간표: '+answer4)
    elif answer1 == 4:
      print('\n'+'목요일 시간표: '+answer5)
    elif answer1 == 5:
      print('\n'+'금요일 시간표: '+answer6)
    elif answer1 == 6:
      print('\n'+'토요일 시간표: '+answer7)
    elif answer1 == 7:
      print('\n'+'일요일 시간표: '+answer8)
  elif answer == 2:
    answer9 = int(input('1. 아침'+ '\n' +'2. 점심'+ '\n' +'3. 저녁'+ '\n'))
    hanilgo_month = soup.select_one('body > div > div > div > section.content > div:nth-child(6) > div > div > div.box-header.with-border > h2').text
    print(hanilgo_month)
    if answer9 == 1:
      hanilgo_breakfast_1 = hb[datetime_today - 1]
      hanilgo_date_1 = hdate[datetime_today - 1]
      print('\n' + hanilgo_real_month + '월 ' + hanilgo_date_1 + '일')
      print(hanilgo_breakfast_1)
    if answer9 == 2:
      hanilgo_lunch_1 = hl[datetime_today - 1]
      hanilgo_date_2 = hdate[datetime_today - 1]
      print('\n' + hanilgo_real_month + '월 ' + hanilgo_date_2 + '일')
      print(hanilgo_lunch_1)
    if answer9 == 3:
      hanilgo_dinner_1 = hd[datetime_today - 1]
      hanilgo_date_3 = hdate[datetime_today - 1]
      print('\n' + hanilgo_real_month + '월 ' + hanilgo_date_3 + '일')
      print(hanilgo_dinner_1)
        


except:
  print('다시 입력하시오. (숫자만 입력해야함)')
