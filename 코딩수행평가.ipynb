import requests
from bs4 import BeautifulSoup

URL = 'https://school.koreacharts.com/school/meals/B000012911/contents.html'
headers = {"User-Agent":"Mozilla/5.0 (X11; CrOS x86_64 14541.0.0) AppleWebKit/537.36 (KHTML, like Gecko) Chrome/124.0.0.0 Safari/537.36"}
res = requests.get(URL, headers=headers)
res.raise_for_status()

soup = BeautifulSoup(res.text)

launch_articles = soup.select('body > div > div > div > section.content > div:nth-child(6) > div > div > div.box-body > table > tbody')
hanilgo_month = soup.select_one('body > div > div > div > section.content > div:nth-child(6) > div > div > div.box-header.with-border > h2').text
print(hanilgo_month)

for launch_article in launch_articles:

    hanilgo_breakfast = launch_article.select_one('tr:nth-child(2) > td:nth-child(3) > p:nth-child(1)').text
    print(hanilgo_breakfast)
    hanilgo_lunch = launch_article.select_one('tr:nth-child(2) > td:nth-child(3) > p:nth-child(2)').text
    print(hanilgo_lunch)
    hanilgo_dinner = launch_article.select_one('tr:nth-child(2) > td:nth-child(3) > p:nth-child(3)').text
    print(hanilgo_dinner)
    hanilgo_date = launch_article.select_one('tr:nth-child(2) > td:nth-child(1)').text
    print(hanilgo_date)

   # URL = 'https://script.google.com/macros/s/AKfycbyudD8g60WVxEiGL_CH3PToq4tETI1sfdq1fali5U8k9vTDwXtkAnkhZCMKPBxIr1IM/exec?url=' + hanilgo_date + "&date=" + hanilgo_breakfast + "&breakfast=" + hanilgo_lunch + "&lunch=" + hanilgo_dinner + "&dinner="
   # response = requests.get(URL)
   # response.status_code
   # response.text
